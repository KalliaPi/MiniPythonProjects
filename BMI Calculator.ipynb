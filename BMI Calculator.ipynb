{
 "cells": [
  {
   "cell_type": "code",
   "execution_count": null,
   "id": "43e8551b",
   "metadata": {},
   "outputs": [],
   "source": [
    "Name=input('Enter your name: ')\n",
    "\n",
    "Weight=int(input('Enter your weight in kg: '))\n",
    "\n",
    "Height=int(input('Enter your height in cm: '))\n",
    "\n",
    "BMI= Weight / (Height/100)**2\n",
    "\n",
    "print(BMI)\n",
    "\n",
    "if BMI>0:\n",
    "    if (BMI<16):\n",
    "        print(Name +' , your BMI status is: underweight.')\n",
    "    elif (BMI>=18.5):\n",
    "        print(Name +' , your BMI status is: normal.')\n",
    "    elif (BMI>=25):\n",
    "        print(Name +' , your BMI status is: overweight.')\n",
    "    elif (BMI>=30):\n",
    "        print(Name +' , your BMI status is: obese.')\n",
    "else:\n",
    "    print('Enter valid input')"
   ]
  },
  {
   "cell_type": "code",
   "execution_count": null,
   "id": "f797956a",
   "metadata": {},
   "outputs": [],
   "source": []
  }
 ],
 "metadata": {
  "kernelspec": {
   "display_name": "Python 3 (ipykernel)",
   "language": "python",
   "name": "python3"
  },
  "language_info": {
   "codemirror_mode": {
    "name": "ipython",
    "version": 3
   },
   "file_extension": ".py",
   "mimetype": "text/x-python",
   "name": "python",
   "nbconvert_exporter": "python",
   "pygments_lexer": "ipython3",
   "version": "3.9.13"
  }
 },
 "nbformat": 4,
 "nbformat_minor": 5
}
