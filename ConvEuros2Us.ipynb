{
 "cells": [
  {
   "cell_type": "code",
   "execution_count": null,
   "id": "984426f8",
   "metadata": {},
   "outputs": [],
   "source": [
    "euros=float(input('Enter euros: '))\n",
    "ConvEuros2Us= 0.81\n",
    "us= euros / ConvUS2Euro\n",
    "print(f\"Dollars = {us:.1f}\")"
   ]
  },
  {
   "cell_type": "code",
   "execution_count": null,
   "id": "5492f3e5",
   "metadata": {},
   "outputs": [],
   "source": []
  }
 ],
 "metadata": {
  "kernelspec": {
   "display_name": "Python 3 (ipykernel)",
   "language": "python",
   "name": "python3"
  },
  "language_info": {
   "codemirror_mode": {
    "name": "ipython",
    "version": 3
   },
   "file_extension": ".py",
   "mimetype": "text/x-python",
   "name": "python",
   "nbconvert_exporter": "python",
   "pygments_lexer": "ipython3",
   "version": "3.9.13"
  }
 },
 "nbformat": 4,
 "nbformat_minor": 5
}
