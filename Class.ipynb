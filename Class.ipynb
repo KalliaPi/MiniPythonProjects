{
 "cells": [
  {
   "cell_type": "code",
   "execution_count": 7,
   "id": "91ae4c2b",
   "metadata": {},
   "outputs": [
    {
     "name": "stdout",
     "output_type": "stream",
     "text": [
      "I am 24 years old and i major in Preschool Education\n"
     ]
    }
   ],
   "source": [
    "class Kallia:\n",
    "    def __init__(self, age, education):\n",
    "        self.age=age\n",
    "        self.education=education\n",
    "\n",
    "    \n",
    "    def info(self):\n",
    "        print(f\"I am {self.age} years old and i major in {self.education}\")\n",
    "\n",
    "K1= Kallia(24,'Preschool Education')     \n",
    "K1.info()"
   ]
  },
  {
   "cell_type": "code",
   "execution_count": null,
   "id": "19311b1a",
   "metadata": {},
   "outputs": [],
   "source": []
  }
 ],
 "metadata": {
  "kernelspec": {
   "display_name": "Python 3 (ipykernel)",
   "language": "python",
   "name": "python3"
  },
  "language_info": {
   "codemirror_mode": {
    "name": "ipython",
    "version": 3
   },
   "file_extension": ".py",
   "mimetype": "text/x-python",
   "name": "python",
   "nbconvert_exporter": "python",
   "pygments_lexer": "ipython3",
   "version": "3.9.13"
  }
 },
 "nbformat": 4,
 "nbformat_minor": 5
}
